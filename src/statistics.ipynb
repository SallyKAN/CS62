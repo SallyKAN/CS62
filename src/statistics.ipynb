{
 "cells": [
  {
   "cell_type": "code",
   "execution_count": 1,
   "metadata": {},
   "outputs": [],
   "source": [
    "import os\n",
    "from scapy.all import rdpcap\n",
    "import numpy as np"
   ]
  },
  {
   "cell_type": "code",
   "execution_count": 2,
   "metadata": {},
   "outputs": [
    {
     "name": "stdout",
     "output_type": "stream",
     "text": [
      "process /home/snape/Documents/comp5703/data/Amazon_Echo/April18\n",
      "process /home/snape/Documents/comp5703/data/Amazon_Echo/April18/smart_bulb\n",
      "process /home/snape/Documents/comp5703/data/Amazon_Echo/April18/music_stop\n",
      "process /home/snape/Documents/comp5703/data/Amazon_Echo/April18/music_play\n",
      "process /home/snape/Documents/comp5703/data/Amazon_Echo/April18/weather\n",
      "process /home/snape/Documents/comp5703/data/Amazon_Echo/April18/timer\n",
      "process /home/snape/Documents/comp5703/data/Amazon_Echo/April18/time\n",
      "process /home/snape/Documents/comp5703/data/Amazon_Echo/April18/fact\n",
      "process /home/snape/Documents/comp5703/data/Amazon_Echo/April18/joke\n",
      "process /home/snape/Documents/comp5703/data/Amazon_Echo/April18/smart_plug\n",
      "process /home/snape/Documents/comp5703/data/Amazon_Echo/April18/alarm\n"
     ]
    }
   ],
   "source": [
    "amazon_april_data_dir = \"/home/snape/Documents/comp5703/data/Amazon_Echo/April18\"\n",
    "amazon_april_list = []\n",
    "for root, dirs, files in os.walk(amazon_april_data_dir):\n",
    "    print(\"process \" + root)\n",
    "    for file in files:\n",
    "        filepath = root + \"/\" + file\n",
    "        packets = rdpcap(filepath)\n",
    "        amazon_april_list.append(len(packets))"
   ]
  },
  {
   "cell_type": "code",
   "execution_count": null,
   "metadata": {},
   "outputs": [],
   "source": [
    "amazon_may_data_dir = \"/home/snape/Documents/comp5703/data/Amazon_Echo/April18\"\n",
    "amazon_may_list = []\n",
    "for root, dirs, files in os.walk(amazon_may_data_dir):\n",
    "    print(\"process \" + root)\n",
    "    for file in files:\n",
    "        filepath = root + \"/\" + file\n",
    "        packets = rdpcap(filepath)\n",
    "        amazon_may_list.append(len(packets))"
   ]
  },
  {
   "cell_type": "code",
   "execution_count": 5,
   "metadata": {},
   "outputs": [
    {
     "name": "stdout",
     "output_type": "stream",
     "text": [
      "total:1587171\n",
      "mean: 159.22662520064205\n",
      "std: 200.96668892518315\n",
      "5th percentile: 20.0\n",
      "15th percentile: 62.0\n",
      "median: 100.0\n",
      "85th percentile: 204.0\n",
      "95th percentile: 623.8999999999978\n"
     ]
    }
   ],
   "source": [
    "amazon_april_data = np.array(amazon_april_list)\n",
    "total = np.sum(amazon_april_data)\n",
    "mean = np.mean(amazon_april_data)\n",
    "std = np.std(amazon_april_data)\n",
    "p5 = np.percentile(amazon_april_data, 5)\n",
    "p15 = np.percentile(amazon_april_data, 15)\n",
    "median = np.percentile(amazon_april_data, 50)\n",
    "p85 = np.percentile(amazon_april_data, 85)\n",
    "p95 = np.percentile(amazon_april_data, 95)\n",
    "print(\"total:\"+str(total))\n",
    "print(\"mean: \"+str(mean))\n",
    "print(\"std: \"+str(std))\n",
    "print(\"5th percentile: \"+str(p5))\n",
    "print(\"15th percentile: \"+str(p15))\n",
    "print(\"median: \"+str(median))\n",
    "print(\"85th percentile: \"+str(p85))\n",
    "print(\"95th percentile: \"+str(p95))\n"
   ]
  },
  {
   "cell_type": "code",
   "execution_count": null,
   "metadata": {},
   "outputs": [],
   "source": []
  },
  {
   "cell_type": "code",
   "execution_count": null,
   "metadata": {},
   "outputs": [],
   "source": [
    "amazon_may_data = np.array(amazon_may_list)\n",
    "total = len(amazon_may_data)\n",
    "mean = np.mean(amazon_may_data)\n",
    "std = np.std(amazon_may_data)\n",
    "p5 = np.percentile(amazon_may_data, 5)\n",
    "p15 = np.percentile(amazon_may_data, 15)\n",
    "median = np.percentile(amazon_may_data, 50)\n",
    "p85 = np.percentile(amazon_may_data, 85)\n",
    "p95 = np.percentile(amazon_may_data, 95)\n",
    "print(\"total:\"+str(total))\n",
    "print(\"mean: \"+str(mean))\n",
    "print(\"std: \"+str(std))\n",
    "print(\"5th percentile: \"+str(p5))\n",
    "print(\"15th percentile: \"+str(p15))\n",
    "print(\"median: \"+str(median))\n",
    "print(\"85th percentile: \"+str(p85))\n",
    "print(\"95th percentile: \"+str(p95))\n"
   ]
  },
  {
   "cell_type": "code",
   "execution_count": 2,
   "metadata": {},
   "outputs": [],
   "source": [
    "def count(google_data_dir):\n",
    "#     google_data_dir = \"/home/snape/Documents/comp5703/data/Google_Home/May15\"\n",
    "    google_list = []\n",
    "    for root, dirs, files in os.walk(google_data_dir):\n",
    "        print(\"process \" + root)\n",
    "        for file in files:\n",
    "            filepath = root + \"/\" + file\n",
    "            packets = rdpcap(filepath)\n",
    "            google_list.append(len(packets))\n",
    "\n",
    "    google_data = np.array(google_list)\n",
    "    total = np.sum(google_data)\n",
    "    mean = np.mean(google_data)\n",
    "    std = np.std(google_data)\n",
    "    p5 = np.percentile(google_data, 5)\n",
    "    p15 = np.percentile(google_data, 15)\n",
    "    median = np.percentile(google_data, 50)\n",
    "    p85 = np.percentile(google_data, 85)\n",
    "    p95 = np.percentile(google_data, 95)\n",
    "    print(\"total:\"+str(total))\n",
    "    print(\"mean: \"+str(mean))\n",
    "    print(\"std: \"+str(std))\n",
    "    print(\"5th percentile: \"+str(p5))\n",
    "    print(\"15th percentile: \"+str(p15))\n",
    "    print(\"median: \"+str(median))\n",
    "    print(\"85th percentile: \"+str(p85))\n",
    "    print(\"95th percentile: \"+str(p95))"
   ]
  },
  {
   "cell_type": "code",
   "execution_count": 5,
   "metadata": {},
   "outputs": [
    {
     "name": "stdout",
     "output_type": "stream",
     "text": [
      "process /home/snape/Documents/comp5703/data/Amazon_Echo/May23\n",
      "process /home/snape/Documents/comp5703/data/Amazon_Echo/May23/music_stop\n",
      "process /home/snape/Documents/comp5703/data/Amazon_Echo/May23/music_play\n",
      "process /home/snape/Documents/comp5703/data/Amazon_Echo/May23/weather\n",
      "process /home/snape/Documents/comp5703/data/Amazon_Echo/May23/timer\n",
      "process /home/snape/Documents/comp5703/data/Amazon_Echo/May23/time\n",
      "process /home/snape/Documents/comp5703/data/Amazon_Echo/May23/fact\n",
      "process /home/snape/Documents/comp5703/data/Amazon_Echo/May23/joke\n",
      "process /home/snape/Documents/comp5703/data/Amazon_Echo/May23/smart_plug\n",
      "process /home/snape/Documents/comp5703/data/Amazon_Echo/May23/alarm\n",
      "total:2698977\n",
      "mean: 299.8863333333333\n",
      "std: 398.50891258944534\n",
      "5th percentile: 51.0\n",
      "15th percentile: 73.0\n",
      "median: 112.0\n",
      "85th percentile: 820.0\n",
      "95th percentile: 1250.0\n"
     ]
    }
   ],
   "source": [
    "dir_list = [\"Amazon_Echo/May23\"]\n",
    "url = \"/home/snape/Documents/comp5703/data/\"\n",
    "for dire in dir_list:\n",
    "    data_url = url+dire\n",
    "    count(data_url)"
   ]
  },
  {
   "cell_type": "code",
   "execution_count": 15,
   "metadata": {},
   "outputs": [
    {
     "name": "stdout",
     "output_type": "stream",
     "text": [
      "process /home/snape/Documents/comp5703/data/Amazon_Echo/Captures_10m\n",
      "process /home/snape/Documents/comp5703/data/Amazon_Echo/Captures_10m/smart_bulb\n",
      "process /home/snape/Documents/comp5703/data/Amazon_Echo/Captures_10m/weather\n",
      "process /home/snape/Documents/comp5703/data/Amazon_Echo/Captures_10m/timer\n",
      "process /home/snape/Documents/comp5703/data/Amazon_Echo/Captures_10m/time\n",
      "process /home/snape/Documents/comp5703/data/Amazon_Echo/Captures_10m/fact\n",
      "process /home/snape/Documents/comp5703/data/Amazon_Echo/Captures_10m/joke\n",
      "process /home/snape/Documents/comp5703/data/Amazon_Echo/Captures_10m/smart_plug\n",
      "process /home/snape/Documents/comp5703/data/Amazon_Echo/Captures_10m/alarm\n"
     ]
    }
   ],
   "source": [
    "amazon10_data_dir = \"/home/snape/Documents/comp5703/data/Amazon_Echo/Captures_10m\"\n",
    "amazon10_list = []\n",
    "for root, dirs, files in os.walk(amazon10_data_dir):\n",
    "    print(\"process \" + root)\n",
    "    for file in files:\n",
    "        filepath = root + \"/\" + file\n",
    "        packets = rdpcap(filepath)\n",
    "        amazon10_list.append(len(packets))"
   ]
  },
  {
   "cell_type": "code",
   "execution_count": 16,
   "metadata": {},
   "outputs": [
    {
     "name": "stdout",
     "output_type": "stream",
     "text": [
      "mean: 107.85955127392572\n",
      "std: 56.47885327612827\n",
      "5th percentile: 11.0\n",
      "15th percentile: 56.0\n",
      "median: 106.0\n",
      "85th percentile: 156.0\n",
      "95th percentile: 201.0\n"
     ]
    }
   ],
   "source": [
    "amazon10_data = np.array(amazon10_list)\n",
    "mean = np.mean(amazon10_data)\n",
    "std = np.std(amazon10_data)\n",
    "p5 = np.percentile(amazon10_data, 5)\n",
    "p15 = np.percentile(amazon10_data, 15)\n",
    "median = np.percentile(amazon10_data, 50)\n",
    "p85 = np.percentile(amazon10_data, 85)\n",
    "p95 = np.percentile(amazon10_data, 95)\n",
    "print(\"mean: \"+str(mean))\n",
    "print(\"std: \"+str(std))\n",
    "print(\"5th percentile: \"+str(p5))\n",
    "print(\"15th percentile: \"+str(p15))\n",
    "print(\"median: \"+str(median))\n",
    "print(\"85th percentile: \"+str(p85))\n",
    "print(\"95th percentile: \"+str(p95))"
   ]
  }
 ],
 "metadata": {
  "kernelspec": {
   "display_name": "Python 3",
   "language": "python",
   "name": "python3"
  },
  "language_info": {
   "codemirror_mode": {
    "name": "ipython",
    "version": 3
   },
   "file_extension": ".py",
   "mimetype": "text/x-python",
   "name": "python",
   "nbconvert_exporter": "python",
   "pygments_lexer": "ipython3",
   "version": "3.6.9"
  }
 },
 "nbformat": 4,
 "nbformat_minor": 4
}
