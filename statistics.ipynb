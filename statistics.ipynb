{
 "cells": [
  {
   "cell_type": "code",
   "execution_count": 7,
   "metadata": {},
   "outputs": [],
   "source": [
    "import os\n",
    "from scapy.all import rdpcap\n",
    "import numpy as np"
   ]
  },
  {
   "cell_type": "code",
   "execution_count": 5,
   "metadata": {},
   "outputs": [
    {
     "name": "stdout",
     "output_type": "stream",
     "text": [
      "process /home/snape/Documents/comp5703/data/Amazon_Echo/Captures_5m\n",
      "process /home/snape/Documents/comp5703/data/Amazon_Echo/Captures_5m/smart_bulb\n",
      "process /home/snape/Documents/comp5703/data/Amazon_Echo/Captures_5m/weather\n",
      "process /home/snape/Documents/comp5703/data/Amazon_Echo/Captures_5m/timer\n",
      "process /home/snape/Documents/comp5703/data/Amazon_Echo/Captures_5m/time\n",
      "process /home/snape/Documents/comp5703/data/Amazon_Echo/Captures_5m/fact\n",
      "process /home/snape/Documents/comp5703/data/Amazon_Echo/Captures_5m/joke\n",
      "process /home/snape/Documents/comp5703/data/Amazon_Echo/Captures_5m/smart_plug\n",
      "process /home/snape/Documents/comp5703/data/Amazon_Echo/Captures_5m/alarm\n"
     ]
    }
   ],
   "source": [
    "amazon5_data_dir = \"/home/snape/Documents/comp5703/data/Amazon_Echo/Captures_5m\"\n",
    "amazon5_list = []\n",
    "for root, dirs, files in os.walk(amazon5_data_dir):\n",
    "    print(\"process \" + root)\n",
    "    for file in files:\n",
    "        filepath = root + \"/\" + file\n",
    "        packets = rdpcap(filepath)\n",
    "        amazon5_list.append(len(packets))"
   ]
  },
  {
   "cell_type": "code",
   "execution_count": 10,
   "metadata": {},
   "outputs": [
    {
     "name": "stdout",
     "output_type": "stream",
     "text": [
      "mean: 101.84905897114179\n",
      "std: 47.43436516374085\n",
      "5th percentile: 40.0\n",
      "15th percentile: 64.0\n",
      "median: 94.0\n",
      "85th percentile: 144.0\n",
      "95th percentile: 190.0\n"
     ]
    }
   ],
   "source": [
    "amazon5_data = np.array(amazon5_list)\n",
    "mean = np.mean(amazon5_data)\n",
    "std = np.std(amazon5_data)\n",
    "p5 = np.percentile(amazon5_data, 5)\n",
    "p15 = np.percentile(amazon5_data, 15)\n",
    "median = np.percentile(amazon5_data, 50)\n",
    "p85 = np.percentile(amazon5_data, 85)\n",
    "p95 = np.percentile(amazon5_data, 95)\n",
    "print(\"mean: \"+str(mean))\n",
    "print(\"std: \"+str(std))\n",
    "print(\"5th percentile: \"+str(p5))\n",
    "print(\"15th percentile: \"+str(p15))\n",
    "print(\"median: \"+str(median))\n",
    "print(\"85th percentile: \"+str(p85))\n",
    "print(\"95th percentile: \"+str(p95))\n"
   ]
  },
  {
   "cell_type": "code",
   "execution_count": 13,
   "metadata": {},
   "outputs": [
    {
     "name": "stdout",
     "output_type": "stream",
     "text": [
      "process /home/snape/Documents/comp5703/data/Google_Home/Captures_5m\n",
      "process /home/snape/Documents/comp5703/data/Google_Home/Captures_5m/smart_bulb\n",
      "process /home/snape/Documents/comp5703/data/Google_Home/Captures_5m/music_stop\n",
      "process /home/snape/Documents/comp5703/data/Google_Home/Captures_5m/music_play\n",
      "process /home/snape/Documents/comp5703/data/Google_Home/Captures_5m/weather\n",
      "process /home/snape/Documents/comp5703/data/Google_Home/Captures_5m/timer\n",
      "process /home/snape/Documents/comp5703/data/Google_Home/Captures_5m/time\n",
      "process /home/snape/Documents/comp5703/data/Google_Home/Captures_5m/fact\n",
      "process /home/snape/Documents/comp5703/data/Google_Home/Captures_5m/joke\n",
      "process /home/snape/Documents/comp5703/data/Google_Home/Captures_5m/smart_plug\n",
      "process /home/snape/Documents/comp5703/data/Google_Home/Captures_5m/alarm\n"
     ]
    }
   ],
   "source": [
    "google_data_dir = \"/home/snape/Documents/comp5703/data/Google_Home/Captures_5m\"\n",
    "google_list = []\n",
    "for root, dirs, files in os.walk(google_data_dir):\n",
    "    print(\"process \" + root)\n",
    "    for file in files:\n",
    "        filepath = root + \"/\" + file\n",
    "        packets = rdpcap(filepath)\n",
    "        google_list.append(len(packets))"
   ]
  },
  {
   "cell_type": "code",
   "execution_count": 14,
   "metadata": {},
   "outputs": [
    {
     "name": "stdout",
     "output_type": "stream",
     "text": [
      "mean: 366.8781024819856\n",
      "std: 299.85344290613114\n",
      "5th percentile: 93.0\n",
      "15th percentile: 156.0\n",
      "median: 266.0\n",
      "85th percentile: 594.3500000000004\n",
      "95th percentile: 1085.0\n"
     ]
    }
   ],
   "source": [
    "google_data = np.array(google_list)\n",
    "mean = np.mean(google_data)\n",
    "std = np.std(google_data)\n",
    "p5 = np.percentile(google_data, 5)\n",
    "p15 = np.percentile(google_data, 15)\n",
    "median = np.percentile(google_data, 50)\n",
    "p85 = np.percentile(google_data, 85)\n",
    "p95 = np.percentile(google_data, 95)\n",
    "print(\"mean: \"+str(mean))\n",
    "print(\"std: \"+str(std))\n",
    "print(\"5th percentile: \"+str(p5))\n",
    "print(\"15th percentile: \"+str(p15))\n",
    "print(\"median: \"+str(median))\n",
    "print(\"85th percentile: \"+str(p85))\n",
    "print(\"95th percentile: \"+str(p95))"
   ]
  },
  {
   "cell_type": "code",
   "execution_count": 15,
   "metadata": {},
   "outputs": [
    {
     "name": "stdout",
     "output_type": "stream",
     "text": [
      "process /home/snape/Documents/comp5703/data/Amazon_Echo/Captures_10m\n",
      "process /home/snape/Documents/comp5703/data/Amazon_Echo/Captures_10m/smart_bulb\n",
      "process /home/snape/Documents/comp5703/data/Amazon_Echo/Captures_10m/weather\n",
      "process /home/snape/Documents/comp5703/data/Amazon_Echo/Captures_10m/timer\n",
      "process /home/snape/Documents/comp5703/data/Amazon_Echo/Captures_10m/time\n",
      "process /home/snape/Documents/comp5703/data/Amazon_Echo/Captures_10m/fact\n",
      "process /home/snape/Documents/comp5703/data/Amazon_Echo/Captures_10m/joke\n",
      "process /home/snape/Documents/comp5703/data/Amazon_Echo/Captures_10m/smart_plug\n",
      "process /home/snape/Documents/comp5703/data/Amazon_Echo/Captures_10m/alarm\n"
     ]
    }
   ],
   "source": [
    "amazon10_data_dir = \"/home/snape/Documents/comp5703/data/Amazon_Echo/Captures_10m\"\n",
    "amazon10_list = []\n",
    "for root, dirs, files in os.walk(amazon10_data_dir):\n",
    "    print(\"process \" + root)\n",
    "    for file in files:\n",
    "        filepath = root + \"/\" + file\n",
    "        packets = rdpcap(filepath)\n",
    "        amazon10_list.append(len(packets))"
   ]
  },
  {
   "cell_type": "code",
   "execution_count": 16,
   "metadata": {},
   "outputs": [
    {
     "name": "stdout",
     "output_type": "stream",
     "text": [
      "mean: 107.85955127392572\n",
      "std: 56.47885327612827\n",
      "5th percentile: 11.0\n",
      "15th percentile: 56.0\n",
      "median: 106.0\n",
      "85th percentile: 156.0\n",
      "95th percentile: 201.0\n"
     ]
    }
   ],
   "source": [
    "amazon10_data = np.array(amazon10_list)\n",
    "mean = np.mean(amazon10_data)\n",
    "std = np.std(amazon10_data)\n",
    "p5 = np.percentile(amazon10_data, 5)\n",
    "p15 = np.percentile(amazon10_data, 15)\n",
    "median = np.percentile(amazon10_data, 50)\n",
    "p85 = np.percentile(amazon10_data, 85)\n",
    "p95 = np.percentile(amazon10_data, 95)\n",
    "print(\"mean: \"+str(mean))\n",
    "print(\"std: \"+str(std))\n",
    "print(\"5th percentile: \"+str(p5))\n",
    "print(\"15th percentile: \"+str(p15))\n",
    "print(\"median: \"+str(median))\n",
    "print(\"85th percentile: \"+str(p85))\n",
    "print(\"95th percentile: \"+str(p95))"
   ]
  }
 ],
 "metadata": {
  "kernelspec": {
   "display_name": "Python 3",
   "language": "python",
   "name": "python3"
  },
  "language_info": {
   "codemirror_mode": {
    "name": "ipython",
    "version": 3
   },
   "file_extension": ".py",
   "mimetype": "text/x-python",
   "name": "python",
   "nbconvert_exporter": "python",
   "pygments_lexer": "ipython3",
   "version": "3.6.9"
  }
 },
 "nbformat": 4,
 "nbformat_minor": 4
}
